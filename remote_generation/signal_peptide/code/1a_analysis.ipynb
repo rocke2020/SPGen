{
 "cells": [
  {
   "cell_type": "markdown",
   "metadata": {},
   "source": [
    "Checking to see if protein sequences Zach sent in excel file called \"initial_enzymes_1\" are in the training set. If so, remove them from the training set.\n",
    "\n",
    "First, align sequences using biopython module, then compute percentage of similarity\n",
    "\n",
    "Reference: https://www.biostars.org/p/208540/"
   ]
  },
  {
   "cell_type": "code",
   "execution_count": 1,
   "metadata": {},
   "outputs": [
    {
     "name": "stderr",
     "output_type": "stream",
     "text": [
      "/home/qcdong/anaconda3/envs/aipep/lib/python3.9/site-packages/Bio/pairwise2.py:278: BiopythonDeprecationWarning: Bio.pairwise2 has been deprecated, and we intend to remove it in a future release of Biopython. As an alternative, please consider using Bio.Align.PairwiseAligner as a replacement, and contact the Biopython developers if you still need the Bio.pairwise2 module.\n",
      "  warnings.warn(\n"
     ]
    }
   ],
   "source": [
    "%matplotlib inline\n",
    "import pickle\n",
    "import random\n",
    "from collections import Counter\n",
    "\n",
    "import numpy as np\n",
    "import pandas as pd\n",
    "import matplotlib.pyplot as plt\n",
    "import seaborn as sns\n",
    "sns.set_style('whitegrid')\n",
    "\n",
    "import csv\n",
    "\n",
    "from Bio import pairwise2 as pw2"
   ]
  },
  {
   "cell_type": "code",
   "execution_count": null,
   "metadata": {
    "collapsed": true
   },
   "outputs": [],
   "source": [
    "# load in prot sequences from dataset\n",
    "df = pd.read_excel('../dataset.xls')\n",
    "dataset = df['Prot Sequences'].values\n",
    "\n",
    "# load in prot sequences from Zach's excel\n",
    "df = pd.read_excel('initial_enzymes_1.xlsx')\n",
    "prot_excel = df['Protein -met -sigp'].values"
   ]
  },
  {
   "cell_type": "code",
   "execution_count": 6,
   "metadata": {},
   "outputs": [
    {
     "name": "stdout",
     "output_type": "stream",
     "text": [
      "(41, 14)\n",
      "Index([                                                       'Unnamed: 0',\n",
      "                                                              'Unnamed: 1',\n",
      "                                                              'Unnamed: 2',\n",
      "                                                              'Unnamed: 3',\n",
      "                                                      'Protein -met -sigp',\n",
      "       'Codon Opt. DNA (no BamHI; EcoRI; HindIII; SmaI; XmaI; BveI; SapI)',\n",
      "                                                              'Unnamed: 6',\n",
      "                                                'Codon Opt + RE Cassettes',\n",
      "                                                              'Unnamed: 8',\n",
      "                                                                 'RC SapI',\n",
      "                                                                 'RC BbsI',\n",
      "                                                                    'BveI',\n",
      "                                                                     11414,\n",
      "                                                        3195.9200000000005],\n",
      "      dtype='object')\n",
      "   Unnamed: 0 Unnamed: 1 Unnamed: 2  Unnamed: 3  \\\n",
      "0  Arnold_001    amylase       ncbi  AAA22240.1   \n",
      "1  Arnold_002    amylase       ncbi  BAB71820.1   \n",
      "2  Arnold_003    amylase       ncbi  ABL75259.1   \n",
      "3  Arnold_004    amylase       ncbi  ABW34932.1   \n",
      "4  Arnold_005    amylase       ncbi  AFI62032.1   \n",
      "\n",
      "                                  Protein -met -sigp  \\\n",
      "0  ANLNGTLMQYFEWYMPNDGQHWKRLQNDSAYLAEHGITAVWIPPAY...   \n",
      "1  DGLNGTMMQYYEWHLENDGQHWNRLHDDAAALSDAGITAIWIPPAY...   \n",
      "2  ASLNGTLMQYFEWYMPNDGQHWKRLQNDSAYLAEHGITAVWIPPAY...   \n",
      "3  ETANKSNELTAPSIKSGTILHAWNWSFNTLKLNMKDIHDAGYTAIQ...   \n",
      "4  ETANKSNELTAPSIKSGTILHAWNWSFNTLKHNMKDIHDAGYTAIQ...   \n",
      "\n",
      "  Codon Opt. DNA (no BamHI; EcoRI; HindIII; SmaI; XmaI; BveI; SapI)  \\\n",
      "0  GCAAATTTGAACGGCACACTTATGCAGTATTTTGAATGGTATATGC...                  \n",
      "1  GATGGTCTTAACGGCACGATGATGCAGTATTATGAATGGCATCTGG...                  \n",
      "2  GCTTCGCTGAACGGCACACTCATGCAGTATTTTGAATGGTATATGC...                  \n",
      "3  GAAACCGCTAATAAGTCAAACGAATTAACGGCCCCCTCAATCAAAA...                  \n",
      "4  GAAACGGCAAATAAATCCAATGAGTTAACAGCACCATCTATAAAAT...                  \n",
      "\n",
      "   Unnamed: 6                           Codon Opt + RE Cassettes  Unnamed: 8  \\\n",
      "0  Arnold_001  GAATGGGCTCTTCAGCTGCAAATTTGAACGGCACACTTATGCAGTA...        1486   \n",
      "1  Arnold_002  GAATGGGCTCTTCAGCTGATGGTCTTAACGGCACGATGATGCAGTA...        1477   \n",
      "2  Arnold_003  GAATGGGCTCTTCAGCTGCTTCGCTGAACGGCACACTCATGCAGTA...        1486   \n",
      "3  Arnold_004  GAATGGGCTCTTCAGCTGAAACCGCTAATAAGTCAAACGAATTAAC...        1369   \n",
      "4  Arnold_005  GAATGGGCTCTTCAGCTGAAACGGCAAATAAATCCAATGAGTTAAC...        1915   \n",
      "\n",
      "   RC SapI  RC BbsI  BveI   11414  3195.9200000000005  \n",
      "0        0        0     0  371.50              104.02  \n",
      "1        0        0     0  369.25              103.39  \n",
      "2        0        0     0  371.50              104.02  \n",
      "3        0        0     0  342.25               95.83  \n",
      "4        0        0     0  478.75              134.05  \n"
     ]
    }
   ],
   "source": [
    "df = pd.read_excel('../data/initial_enzymes_1.xlsx', sheet_name='Sheet2')\n",
    "print(df.shape)\n",
    "print(df.columns)\n",
    "print(df.head())\n",
    "prot_excel = df['Protein -met -sigp'].values"
   ]
  },
  {
   "cell_type": "code",
   "execution_count": 3,
   "metadata": {},
   "outputs": [
    {
     "data": {
      "text/plain": [
       "28723"
      ]
     },
     "execution_count": 3,
     "metadata": {},
     "output_type": "execute_result"
    }
   ],
   "source": [
    "len(dataset)"
   ]
  },
  {
   "cell_type": "code",
   "execution_count": null,
   "metadata": {
    "collapsed": true
   },
   "outputs": [],
   "source": [
    "def write_to_csv(filename, query_prot, dataset_prot, sim):\n",
    "    \"\"\" Function that writes out query sequence, dataset sequence, and similarity to csv file. \"\"\"\n",
    "    lst = [[query_prot], [dataset_prot], [sim]]\n",
    "    with open(filename, 'a') as myfile:\n",
    "        for row in lst:\n",
    "            for col in row:\n",
    "                myfile.write(str(col))\n",
    "            myfile.write('\\n')"
   ]
  },
  {
   "cell_type": "code",
   "execution_count": null,
   "metadata": {
    "collapsed": true
   },
   "outputs": [],
   "source": [
    "# Create csv files for each query protein in Zach's excel with the similarity to each protein in dataset--after alignment\n",
    "\n",
    "for i, prot in enumerate(prot_excel[20:21]):\n",
    "    filename = \"Query protein \" + str(i + 21) + \".csv\"\n",
    "    for j, dat in enumerate(dataset):\n",
    "        global_align = pw2.align.globalxx(prot, dat) # align sequences\n",
    "        seq_length = min(len(prot), len(dat))\n",
    "        matches = global_align[0][2]\n",
    "        \n",
    "        percent_match = (matches / seq_length) * 100\n",
    "        write_to_csv(filename, prot, dat, percent_match)"
   ]
  },
  {
   "cell_type": "code",
   "execution_count": 4,
   "metadata": {},
   "outputs": [],
   "source": [
    "sim = [] # a list of lists of similarities of each protein sequence in the dataset to each query protein\n",
    "\n",
    "for i, prot in enumerate(prot_excel): # read each csv made for each query protein\n",
    "    filename = \"Query+protein+\" + str(i + 1) + \".csv\"\n",
    "    with open(filename, \"r\") as f:\n",
    "        reader = csv.reader(f, delimiter=\"\\t\")\n",
    "        index = 0 # for appending to lists of similarities within the list \"sim\"\n",
    "        for j, line in enumerate(reader): # reads in each row of the csv\n",
    "            if i == 0: # make initial lists of similarities of each protein in dataset\n",
    "                if (j + 1) % 3 == 0:\n",
    "                    sim.append([float(line[0])])\n",
    "            else: # append to lists of similarities of each protein in dataset\n",
    "                if (j + 1) % 3 == 0:\n",
    "                    sim[index].append(float(line[0]))\n",
    "                    index += 1"
   ]
  },
  {
   "cell_type": "code",
   "execution_count": 5,
   "metadata": {
    "collapsed": true
   },
   "outputs": [],
   "source": [
    "indices_50 = [] # stores indices of protein sequences in dataset at least 50% similar\n",
    "indices_75 = [] # stores indices of protein sequences in dataset at least 75% similar\n",
    "indices_90 = [] # stores indices of protein sequences in dataset at least 90% similar\n",
    "indices_95 = [] # stores indices of protein sequences in dataset at least 95% similar\n",
    "indices_99 = [] # stores indices of protein sequences in dataset at least 99% similar\n",
    "\n",
    "for i, dat in enumerate(dataset):\n",
    "    if max(sim[i]) >= 50:\n",
    "        indices_50.append(i)\n",
    "    if max(sim[i]) >= 75:\n",
    "        indices_75.append(i)\n",
    "    if max(sim[i]) >= 90:\n",
    "        indices_90.append(i)\n",
    "    if max(sim[i]) >= 95:\n",
    "        indices_95.append(i)\n",
    "    if max(sim[i]) >= 99:\n",
    "        indices_99.append(i)\n",
    "        \n",
    "dataset_50 = np.delete(dataset, indices_50) # remove protein sequences at least 50% similar\n",
    "dataset_75 = np.delete(dataset, indices_75) # remove protein sequences at least 75% similar\n",
    "dataset_90 = np.delete(dataset, indices_90) # remove protein sequences at least 90% similar\n",
    "dataset_95 = np.delete(dataset, indices_95) # remove protein sequences at least 95% similar\n",
    "dataset_99 = np.delete(dataset, indices_99) # remove protein sequences at least 99% similar"
   ]
  },
  {
   "cell_type": "code",
   "execution_count": 7,
   "metadata": {},
   "outputs": [
    {
     "name": "stdout",
     "output_type": "stream",
     "text": [
      "22120\n",
      "27687\n",
      "28218\n",
      "28546\n"
     ]
    }
   ],
   "source": [
    "print(len(dataset_75))\n",
    "print(len(dataset_90))\n",
    "print(len(dataset_95))\n",
    "print(len(dataset_99))"
   ]
  },
  {
   "cell_type": "code",
   "execution_count": null,
   "metadata": {},
   "outputs": [],
   "source": [
    "# write new datasets out to csv\n",
    "\n",
    "def write_prot_to_csv(filename, prot):\n",
    "    \"\"\" Function that writes protein sequence out to one row in csv \"\"\"\n",
    "    with open(filename, 'a', newline='') as myfile:\n",
    "        wr = csv.writer(myfile)\n",
    "        wr.writerow([str(prot)])\n",
    "            \n",
    "for i, dataset in enumerate([dataset_50, dataset_75, dataset_90, dataset_95, dataset_99]):\n",
    "    filename = \"dataset_\" + str(i + 1) + \".csv\"\n",
    "    for j, prot in enumerate(dataset):\n",
    "        write_prot_to_csv(filename, prot)"
   ]
  },
  {
   "cell_type": "code",
   "execution_count": null,
   "metadata": {},
   "outputs": [],
   "source": [
    "len(dataset)"
   ]
  },
  {
   "cell_type": "code",
   "execution_count": null,
   "metadata": {
    "collapsed": true
   },
   "outputs": [],
   "source": [
    "# function that writes out to csv - similarity\n",
    "# take out of instance\n",
    "# c5.xlarge\n",
    "# top for multiple notebooks, new file for each query (41 files total)"
   ]
  }
 ],
 "metadata": {
  "kernelspec": {
   "display_name": "Python 3",
   "language": "python",
   "name": "python3"
  },
  "language_info": {
   "codemirror_mode": {
    "name": "ipython",
    "version": 3
   },
   "file_extension": ".py",
   "mimetype": "text/x-python",
   "name": "python",
   "nbconvert_exporter": "python",
   "pygments_lexer": "ipython3",
   "version": "3.9.7"
  }
 },
 "nbformat": 4,
 "nbformat_minor": 2
}
